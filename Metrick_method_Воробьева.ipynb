{
  "nbformat": 4,
  "nbformat_minor": 0,
  "metadata": {
    "colab": {
      "provenance": [],
      "authorship_tag": "ABX9TyOMJbE30VgL+2ihYDwlNSAT",
      "include_colab_link": true
    },
    "kernelspec": {
      "name": "python3",
      "display_name": "Python 3"
    },
    "language_info": {
      "name": "python"
    }
  },
  "cells": [
    {
      "cell_type": "markdown",
      "metadata": {
        "id": "view-in-github",
        "colab_type": "text"
      },
      "source": [
        "<a href=\"https://colab.research.google.com/github/krimplessy/Machine_Learning/blob/main/Metrick_method_%D0%92%D0%BE%D1%80%D0%BE%D0%B1%D1%8C%D0%B5%D0%B2%D0%B0.ipynb\" target=\"_parent\"><img src=\"https://colab.research.google.com/assets/colab-badge.svg\" alt=\"Open In Colab\"/></a>"
      ]
    },
    {
      "cell_type": "markdown",
      "source": [
        "**<h3>Выполнила студентка</h3>**\n",
        "\n",
        "Воробьева Кристина\n",
        "\n",
        "Группа: Б9120-09.03.04ПрогИн(3)"
      ],
      "metadata": {
        "id": "wAmeWvME1jhb"
      }
    },
    {
      "cell_type": "code",
      "source": [
        "# про запас подключим библиотеки\n",
        "import matplotlib.pyplot as plt\n",
        "from matplotlib import gridspec\n",
        "import seaborn as sns\n",
        "import pandas as pd\n",
        "from tqdm.notebook import tqdm\n",
        "\n",
        "from scipy.special import softmax\n",
        "from scipy.spatial.distance import cdist\n",
        "import numpy as np\n",
        "\n",
        "from sklearn.datasets import make_classification, load_iris, load_wine\n",
        "from sklearn.metrics import classification_report\n",
        "from sklearn.model_selection import KFold, ParameterGrid, GridSearchCV, train_test_split\n",
        "from sklearn.neighbors import KNeighborsClassifier, KernelDensity\n",
        "from sklearn.base import BaseEstimator, ClassifierMixin\n",
        "\n",
        "from mlxtend.plotting import plot_decision_regions\n",
        "\n",
        "import time\n",
        "import datetime"
      ],
      "metadata": {
        "id": "jks5jUhi1_L5"
      },
      "execution_count": null,
      "outputs": []
    },
    {
      "cell_type": "code",
      "source": [
        "import warnings\n",
        "warnings.filterwarnings(\"ignore\")"
      ],
      "metadata": {
        "id": "rLhr753x5OxZ"
      },
      "execution_count": null,
      "outputs": []
    },
    {
      "cell_type": "code",
      "source": [
        "# Файловый способ подключения выборки данных\n",
        "#data = pd.read_csv('diabetes.csv', names=[\"Pregnancies\", \"Glucose\", \"BloodPressure\", \"SkinThickness\", \"Insulin\", \"BMI\", \"DiabetesPedigreeFunction\", \"Age\", \"Outcome\"])\n",
        "\n",
        "file_path = \"diabetes.csv\"\n",
        "data = pd.read_csv(file_path)\n",
        "\n",
        "X = data.drop(\"Outcome\", 1)\n",
        "Y = data.Outcome\n",
        "X_train, X_test, Y_train, Y_test = train_test_split(X, Y, test_size = 0.3, random_state = 5)"
      ],
      "metadata": {
        "id": "sNeErsIt2H5x"
      },
      "execution_count": null,
      "outputs": []
    },
    {
      "cell_type": "markdown",
      "source": [
        "Метод k-ближайших соседей (KNN):"
      ],
      "metadata": {
        "id": "ygcEijEW_pVd"
      }
    },
    {
      "cell_type": "code",
      "source": [
        "# посмотрим как ведет себя наша модель, если количество соседей мы будем менять\n",
        "print('K\\t', 'Обучение\\t\\t', 'Контроль');\n",
        "\n",
        "models = []\n",
        "train_accuracy = []\n",
        "test_accuracy = []\n",
        "max_k = 20 # максимальное количество соседей\n",
        "for n_neighbors in range(1, max_k):\n",
        "    model = KNeighborsClassifier(n_neighbors = n_neighbors)\n",
        "    model.fit(X_train, Y_train)\n",
        "    models.append(model)\n",
        "    print(n_neighbors, '\\t', model.score(X_train, Y_train), end = '')\n",
        "    a = str(model.score(X_train, Y_train))\n",
        "    if len(a) < 15:\n",
        "        print('\\t\\t', end = '')\n",
        "    print('\\t', model.score(X_test, Y_test))\n",
        "    train_accuracy.append(model.score(X_train, Y_train))\n",
        "    test_accuracy.append(model.score(X_test, Y_test))\n",
        "best_k = test_accuracy.index(max(test_accuracy)) + 1\n",
        "print('Лучшее число соседей (k)   :', best_k)\n",
        "print('Процент ошибок на обучении :', (1-train_accuracy[best_k - 1]) * 100, '%')\n",
        "print('Процент ошибок на контроле :', (1-test_accuracy[best_k - 1]) * 100, '%')\n",
        "plt.plot(range(1,max_k),test_accuracy);\n",
        "plt.plot(range(1,max_k),train_accuracy);"
      ],
      "metadata": {
        "colab": {
          "base_uri": "https://localhost:8080/",
          "height": 821
        },
        "id": "M5LSAUY76BXm",
        "outputId": "a7af73ad-806d-4b05-aedb-d69b38fad797"
      },
      "execution_count": null,
      "outputs": [
        {
          "output_type": "stream",
          "name": "stdout",
          "text": [
            "K\t Обучение\t\t Контроль\n",
            "1 \t 1.0\t\t\t 0.696969696969697\n",
            "2 \t 0.8379888268156425\t 0.7489177489177489\n",
            "3 \t 0.8324022346368715\t 0.7012987012987013\n",
            "4 \t 0.8100558659217877\t 0.7272727272727273\n",
            "5 \t 0.7821229050279329\t 0.7359307359307359\n",
            "6 \t 0.7746741154562383\t 0.7619047619047619\n",
            "7 \t 0.7728119180633147\t 0.7272727272727273\n",
            "8 \t 0.7653631284916201\t 0.7186147186147186\n",
            "9 \t 0.7635009310986964\t 0.7229437229437229\n",
            "10 \t 0.7821229050279329\t 0.7489177489177489\n",
            "11 \t 0.7858472998137802\t 0.7229437229437229\n",
            "12 \t 0.7895716945996276\t 0.7359307359307359\n",
            "13 \t 0.7783985102420856\t 0.70995670995671\n",
            "14 \t 0.7858472998137802\t 0.7402597402597403\n",
            "15 \t 0.7746741154562383\t 0.7229437229437229\n",
            "16 \t 0.7858472998137802\t 0.7186147186147186\n",
            "17 \t 0.7802607076350093\t 0.7316017316017316\n",
            "18 \t 0.776536312849162\t 0.70995670995671\n",
            "19 \t 0.7783985102420856\t 0.7272727272727273\n",
            "Лучшее число соседей (k)   : 6\n",
            "Процент ошибок на обучении : 22.532588454376167 %\n",
            "Процент ошибок на контроле : 23.809523809523814 %\n"
          ]
        },
        {
          "output_type": "display_data",
          "data": {
            "text/plain": [
              "<Figure size 640x480 with 1 Axes>"
            ],
            "image/png": "[encoded data removed]"
          },
          "metadata": {}
        }
      ]
    },
    {
      "cell_type": "markdown",
      "source": [
        "**<h3>Вывод</h3>**\n",
        "\n",
        "Метод k ближайших соседей (KNN).\n",
        "\n",
        "*Суть метода.* Из выбранного датасета у нас выделяется обучающая выборка, где данные определены к какому-либо классу, по которой в дальнейшем мы будем классифицировать \"тестовую\" выборку.\n",
        "Данный алгоритм по каким-то признакам считает расстояния между уже размеченными и еще неизвестными объектами в пространстве. Сначала вычисляется расстояние от объекта, который необходимо проклассифицировать, до каждого объекта из обучающей выборки с определенным классом. Затем отбираются объекты с минимальным расстоянием и объект классифицируется на основе наиболее часто встречающихся k-соседей\n",
        "\n",
        "Процентное соотношение обучающих и контрольных объектов - 70% и 30%.\n",
        "\n",
        "При random_state = 5 результаты эксперимента следующие:\n",
        "\n",
        "  *Лучшее количество соседей:* 6\n",
        "\n",
        "  *Процент ошибок на обучении:* 22.532588454376167 %\n",
        "\n",
        "  *Процент ошибок на контроле:* 23.809523809523814 %\n",
        "\n",
        "При random_state = 0:\n",
        "\n",
        "*Лучшее число соседей:* 15\n",
        "\n",
        "*Процент ошибок на обучении:* 21.22905027932961 %\n",
        "\n",
        "*Процент ошибок на контроле:* 24.242424242424242 %\n",
        "\n",
        "При random_state = 10:\n",
        "\n",
        "*Лучшее число соседей:* 6\n",
        "\n",
        "*Процент ошибок на обучении:* 19.18063314711359 %\n",
        "\n",
        "*Процент ошибок на контроле:* 28.13852813852814 %\n",
        "\n",
        "Процент ошибок на обучении находится в диапазоне - от 19% до 22%, а процент ошибок на контроле - от 23% до 28%.\n",
        "\n",
        "Наилучшее количество соседей - 6, потому что встречается в выводах эксперимента чаще всего."
      ],
      "metadata": {
        "id": "Wmb9z2KSBhH2"
      }
    }
  ]
}